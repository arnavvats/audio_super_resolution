{
  "nbformat": 4,
  "nbformat_minor": 0,
  "metadata": {
    "colab": {
      "name": "audio_super_resolution.ipynb",
      "version": "0.3.2",
      "provenance": [],
      "collapsed_sections": [],
      "include_colab_link": true
    },
    "kernelspec": {
      "name": "python2",
      "display_name": "Python 2"
    },
    "accelerator": "GPU"
  },
  "cells": [
    {
      "cell_type": "markdown",
      "metadata": {
        "id": "view-in-github",
        "colab_type": "text"
      },
      "source": [
        "<a href=\"https://colab.research.google.com/github/arnavvats/audio_super_resolution/blob/master/audio_super_resolution.ipynb\" target=\"_parent\"><img src=\"https://colab.research.google.com/assets/colab-badge.svg\" alt=\"Open In Colab\"/></a>"
      ]
    },
    {
      "cell_type": "code",
      "metadata": {
        "id": "2Fn3JdYiwgu_",
        "colab_type": "code",
        "colab": {}
      },
      "source": [
        "import os\n",
        "os.environ['KAGGLE_USERNAME'] = \"arnavvats\"\n",
        "os.environ['KAGGLE_KEY'] = \"9308d2d0538e961301be39c5ef6f8355\"\n",
        "# from google.colab import drive\n",
        "# drive.mount('/drive', force_remount = True)"
      ],
      "execution_count": 0,
      "outputs": []
    },
    {
      "cell_type": "code",
      "metadata": {
        "id": "zB_uPf_kxI0z",
        "colab_type": "code",
        "outputId": "fe83c276-7592-4e9b-d3e4-03b105729b9b",
        "colab": {
          "base_uri": "https://localhost:8080/",
          "height": 67
        }
      },
      "source": [
        "!kaggle datasets download -d arnavvats/audio-data"
      ],
      "execution_count": 2,
      "outputs": [
        {
          "output_type": "stream",
          "text": [
            "Downloading audio-data.zip to /content\n",
            " 99% 4.29G/4.32G [00:34<00:00, 130MB/s]\n",
            "100% 4.32G/4.32G [00:34<00:00, 134MB/s]\n"
          ],
          "name": "stdout"
        }
      ]
    },
    {
      "cell_type": "code",
      "metadata": {
        "id": "blTzuwEsxQ2b",
        "colab_type": "code",
        "outputId": "e454dc84-36bc-459d-bcbc-964dcfe48dc0",
        "colab": {
          "base_uri": "https://localhost:8080/",
          "height": 101
        }
      },
      "source": [
        "!git clone https://github.com/kuleshov/audio-super-res.git"
      ],
      "execution_count": 3,
      "outputs": [
        {
          "output_type": "stream",
          "text": [
            "Cloning into 'audio-super-res'...\n",
            "remote: Enumerating objects: 389, done.\u001b[K\n",
            "remote: Total 389 (delta 0), reused 0 (delta 0), pack-reused 389\u001b[K\n",
            "Receiving objects: 100% (389/389), 58.12 MiB | 37.36 MiB/s, done.\n",
            "Resolving deltas: 100% (112/112), done.\n"
          ],
          "name": "stdout"
        }
      ]
    },
    {
      "cell_type": "code",
      "metadata": {
        "id": "ZS1F3Q4Pz15r",
        "colab_type": "code",
        "colab": {}
      },
      "source": [
        "import os\n",
        "os.chdir('./audio-super-res/data/vctk/')"
      ],
      "execution_count": 0,
      "outputs": []
    },
    {
      "cell_type": "code",
      "metadata": {
        "id": "xWO69Q-0Rx60",
        "colab_type": "code",
        "colab": {}
      },
      "source": [
        "!make;"
      ],
      "execution_count": 0,
      "outputs": []
    },
    {
      "cell_type": "code",
      "metadata": {
        "id": "CPWoEBUNR4gQ",
        "colab_type": "code",
        "colab": {
          "base_uri": "https://localhost:8080/",
          "height": 958
        },
        "outputId": "23900fa5-5c3b-409b-ac70-63b257ed5e71"
      },
      "source": [
        "os.chdir('./speaker1');\n",
        "!make;"
      ],
      "execution_count": 7,
      "outputs": [
        {
          "output_type": "stream",
          "text": [
            "make vctk-speaker1-train.4.16000.8192.4096.h5 vctk-speaker1-val.4.16000.8192.4096.h5\n",
            "make[1]: Entering directory '/content/audio-super-res/data/vctk/speaker1'\n",
            "python ../prep_vctk.py \\\n",
            "\t--file-list speaker1-train-files.txt \\\n",
            "\t--in-dir ../VCTK-Corpus/wav48/p225 \\\n",
            "\t--out vctk-speaker1-train.4.16000.8192.4096.h5.tmp \\\n",
            "\t--scale 4 \\\n",
            "\t--sr 16000 \\\n",
            "\t--dimension 8192 \\\n",
            "\t--stride 4096 \\\n",
            "\t--interpolate \\\n",
            "\t--low-pass\n",
            "0/223\n",
            "10/223\n",
            "20/223\n",
            "30/223\n",
            "40/223\n",
            "50/223\n",
            "60/223\n",
            "70/223\n",
            "80/223\n",
            "90/223\n",
            "100/223\n",
            "110/223\n",
            "120/223\n",
            "130/223\n",
            "140/223\n",
            "150/223\n",
            "160/223\n",
            "170/223\n",
            "180/223\n",
            "190/223\n",
            "200/223\n",
            "210/223\n",
            "220/223\n",
            "3420\n",
            "(3328, 8192, 1)\n",
            "mv vctk-speaker1-train.4.16000.8192.4096.h5.tmp vctk-speaker1-train.4.16000.8192.4096.h5\n",
            "python ../prep_vctk.py \\\n",
            "\t--file-list speaker1-val-files.txt \\\n",
            "\t--in-dir ../VCTK-Corpus/wav48/p225 \\\n",
            "\t--out vctk-speaker1-val.4.16000.8192.4096.h5.tmp \\\n",
            "\t--scale 4 \\\n",
            "\t--sr 16000 \\\n",
            "\t--dimension 8192 \\\n",
            "\t--stride 4096 \\\n",
            "\t--interpolate \\\n",
            "\t--low-pass\n",
            "0/32\n",
            "10/32\n",
            "20/32\n",
            "30/32\n",
            "448\n",
            "(384, 8192, 1)\n",
            "mv vctk-speaker1-val.4.16000.8192.4096.h5.tmp vctk-speaker1-val.4.16000.8192.4096.h5\n",
            "make[1]: Leaving directory '/content/audio-super-res/data/vctk/speaker1'\n"
          ],
          "name": "stdout"
        }
      ]
    },
    {
      "cell_type": "code",
      "metadata": {
        "id": "nQFIkZdtiQ3S",
        "colab_type": "code",
        "colab": {
          "base_uri": "https://localhost:8080/",
          "height": 356
        },
        "outputId": "75dcc255-af14-40f4-8af7-6821a21e6183"
      },
      "source": [
        "!pip install keras==1.2.1"
      ],
      "execution_count": 8,
      "outputs": [
        {
          "output_type": "stream",
          "text": [
            "Collecting keras==1.2.1\n",
            "\u001b[?25l  Downloading https://files.pythonhosted.org/packages/96/62/f6c6c16e81b11a06698db58724ecbb2cf924ca1f646705850d68ecbb09b1/Keras-1.2.1.tar.gz (173kB)\n",
            "\u001b[K     |████████████████████████████████| 174kB 2.9MB/s \n",
            "\u001b[?25hRequirement already satisfied: theano in /usr/local/lib/python2.7/dist-packages (from keras==1.2.1) (1.0.4)\n",
            "Requirement already satisfied: pyyaml in /usr/local/lib/python2.7/dist-packages (from keras==1.2.1) (3.13)\n",
            "Requirement already satisfied: six in /usr/local/lib/python2.7/dist-packages (from keras==1.2.1) (1.12.0)\n",
            "Requirement already satisfied: numpy>=1.9.1 in /usr/local/lib/python2.7/dist-packages (from theano->keras==1.2.1) (1.16.4)\n",
            "Requirement already satisfied: scipy>=0.14 in /usr/local/lib/python2.7/dist-packages (from theano->keras==1.2.1) (1.2.2)\n",
            "Building wheels for collected packages: keras\n",
            "  Building wheel for keras (setup.py) ... \u001b[?25l\u001b[?25hdone\n",
            "  Stored in directory: /root/.cache/pip/wheels/72/89/fe/faa5b6078ee30f61c1ff9d49b4d755e533084feaea6e8e8315\n",
            "Successfully built keras\n",
            "\u001b[31mERROR: fancyimpute 0.4.3 has requirement keras>=2.0.0, but you'll have keras 1.2.1 which is incompatible.\u001b[0m\n",
            "\u001b[31mERROR: kapre 0.1.3.1 has requirement keras>=2.0.0, but you'll have keras 1.2.1 which is incompatible.\u001b[0m\n",
            "Installing collected packages: keras\n",
            "  Found existing installation: Keras 2.2.4\n",
            "    Uninstalling Keras-2.2.4:\n",
            "      Successfully uninstalled Keras-2.2.4\n",
            "Successfully installed keras-1.2.1\n"
          ],
          "name": "stdout"
        }
      ]
    },
    {
      "cell_type": "code",
      "metadata": {
        "id": "mAxrlIBpiZMt",
        "colab_type": "code",
        "colab": {
          "base_uri": "https://localhost:8080/",
          "height": 50
        },
        "outputId": "912b8cc9-c98b-4a5a-cab5-1d8edf186ccb"
      },
      "source": [
        "import keras\n",
        "keras.__version__"
      ],
      "execution_count": 9,
      "outputs": [
        {
          "output_type": "stream",
          "text": [
            "Using TensorFlow backend.\n"
          ],
          "name": "stderr"
        },
        {
          "output_type": "execute_result",
          "data": {
            "text/plain": [
              "'1.2.1'"
            ]
          },
          "metadata": {
            "tags": []
          },
          "execution_count": 9
        }
      ]
    },
    {
      "cell_type": "code",
      "metadata": {
        "id": "RsP05YPaR9Q-",
        "colab_type": "code",
        "colab": {
          "base_uri": "https://localhost:8080/",
          "height": 1000
        },
        "outputId": "d0775e8f-8699-4938-d12e-e7a4b89a7a9a"
      },
      "source": [
        "# os.chdir('../../../src')\n",
        "!python run.py train \\\n",
        "  --train ../data/vctk/speaker1/vctk-speaker1-train.4.16000.8192.4096.h5 \\\n",
        "  --val ../data/vctk/speaker1/vctk-speaker1-val.4.16000.8192.4096.h5 \\\n",
        "  -e 120 \\\n",
        "  --batch-size 16 \\\n",
        "  --lr 3e-4 \\\n",
        "  --logname singlespeaker"
      ],
      "execution_count": 10,
      "outputs": [
        {
          "output_type": "stream",
          "text": [
            "Using TensorFlow backend.\n",
            "List of arrays in input file: [u'data', u'label']\n",
            "Shape of X: (3328, 8192, 1)\n",
            "Shape of Y: (3328, 8192, 1)\n",
            "List of arrays in input file: [u'data', u'label']\n",
            "Shape of X: (384, 8192, 1)\n",
            "Shape of Y: (384, 8192, 1)\n",
            "building model...\n",
            "D-Block:  (?, ?, 128)\n",
            "D-Block:  (?, ?, 256)\n",
            "D-Block:  (?, ?, 512)\n",
            "D-Block:  (?, ?, 512)\n",
            "U-Block:  (?, ?, 1024)\n",
            "U-Block:  (?, ?, 1024)\n",
            "U-Block:  (?, ?, 512)\n",
            "U-Block:  (?, ?, 256)\n",
            "(?, ?, 1)\n",
            "creating train_op with params: {'layers': 4, 'alg': 'adam', 'batch_size': 16, 'lr': 0.0003, 'b1': 0.9, 'b2': 0.999}\n",
            "Total epochs 120\n",
            "Step 1\n",
            "Step 2\n",
            "Step 3\n",
            "Step 4\n",
            "Step 5\n",
            "Step 6\n",
            "Step 7\n",
            "Step 8\n",
            "Step 9\n",
            "Step 10\n",
            "Step 11\n",
            "Step 12\n",
            "Step 13\n",
            "Step 14\n",
            "Step 15\n",
            "Step 16\n",
            "Step 17\n",
            "Step 18\n",
            "Step 19\n",
            "Step 20\n",
            "Step 21\n",
            "Step 22\n",
            "Step 23\n",
            "Step 24\n",
            "Step 25\n",
            "Step 26\n",
            "Step 27\n",
            "Step 28\n",
            "Step 29\n",
            "Step 30\n",
            "Step 31\n",
            "Step 32\n",
            "Step 33\n",
            "Step 34\n",
            "Step 35\n",
            "Step 36\n",
            "Step 37\n",
            "Step 38\n",
            "Step 39\n",
            "Step 40\n",
            "Step 41\n",
            "Step 42\n",
            "Step 43\n",
            "Step 44\n",
            "Step 45\n",
            "Step 46\n",
            "Step 47\n",
            "Step 48\n",
            "Step 49\n",
            "Step 50\n",
            "Step 51\n",
            "Step 52\n",
            "Step 53\n",
            "Step 54\n",
            "Step 55\n",
            "Step 56\n",
            "Step 57\n",
            "Step 58\n",
            "Step 59\n",
            "Step 60\n",
            "Step 61\n",
            "Step 62\n",
            "Step 63\n",
            "^C\n"
          ],
          "name": "stdout"
        }
      ]
    },
    {
      "cell_type": "code",
      "metadata": {
        "id": "OD0EFnRKR_7Z",
        "colab_type": "code",
        "colab": {}
      },
      "source": [
        "import os\n",
        "os.chdir('./audio-super-res/src')"
      ],
      "execution_count": 0,
      "outputs": []
    },
    {
      "cell_type": "code",
      "metadata": {
        "id": "TUgUPsbXSFNB",
        "colab_type": "code",
        "colab": {
          "base_uri": "https://localhost:8080/",
          "height": 34
        },
        "outputId": "71a805eb-a9d2-4e55-f9ac-f883d8ad2030"
      },
      "source": [
        "!ls ../../../"
      ],
      "execution_count": 13,
      "outputs": [
        {
          "output_type": "stream",
          "text": [
            "_config.yml  data  docs  index.md  README.md  samples  src\n"
          ],
          "name": "stdout"
        }
      ]
    },
    {
      "cell_type": "code",
      "metadata": {
        "id": "9tVZu9MqSZPk",
        "colab_type": "code",
        "colab": {}
      },
      "source": [
        "mv ../../model.py ./models/model.py"
      ],
      "execution_count": 0,
      "outputs": []
    },
    {
      "cell_type": "code",
      "metadata": {
        "id": "jODDBsLaW7fn",
        "colab_type": "code",
        "colab": {
          "base_uri": "https://localhost:8080/",
          "height": 626
        },
        "outputId": "bf0ef9ed-282e-4c5d-dd31-2a5a70c798fa"
      },
      "source": [
        "!pip install tensorflow==0.12.0"
      ],
      "execution_count": 15,
      "outputs": [
        {
          "output_type": "stream",
          "text": [
            "Collecting tensorflow==0.12.0\n",
            "\u001b[?25l  Downloading https://files.pythonhosted.org/packages/01/c5/adefd2d5c83e6d8b4a8efa5dd00e44dc05de317b744fb58aef6d8366ce2b/tensorflow-0.12.0-cp27-cp27mu-manylinux1_x86_64.whl (43.1MB)\n",
            "\u001b[K     |████████████████████████████████| 43.1MB 2.6MB/s \n",
            "\u001b[?25hRequirement already satisfied: numpy>=1.11.0 in /usr/local/lib/python2.7/dist-packages (from tensorflow==0.12.0) (1.16.4)\n",
            "Requirement already satisfied: mock>=2.0.0 in /usr/local/lib/python2.7/dist-packages (from tensorflow==0.12.0) (2.0.0)\n",
            "Requirement already satisfied: six>=1.10.0 in /usr/local/lib/python2.7/dist-packages (from tensorflow==0.12.0) (1.12.0)\n",
            "Collecting protobuf==3.1.0 (from tensorflow==0.12.0)\n",
            "\u001b[?25l  Downloading https://files.pythonhosted.org/packages/b2/30/ab593c6ae73b45a5ef0b0af24908e8aec27f79efcda2e64a3df7af0b92a2/protobuf-3.1.0-py2.py3-none-any.whl (339kB)\n",
            "\u001b[K     |████████████████████████████████| 348kB 62.2MB/s \n",
            "\u001b[?25hRequirement already satisfied: wheel in /usr/local/lib/python2.7/dist-packages (from tensorflow==0.12.0) (0.33.4)\n",
            "Requirement already satisfied: funcsigs>=1; python_version < \"3.3\" in /usr/local/lib/python2.7/dist-packages (from mock>=2.0.0->tensorflow==0.12.0) (1.0.2)\n",
            "Requirement already satisfied: pbr>=0.11 in /usr/local/lib/python2.7/dist-packages (from mock>=2.0.0->tensorflow==0.12.0) (5.4.0)\n",
            "Requirement already satisfied: setuptools in /usr/local/lib/python2.7/dist-packages (from protobuf==3.1.0->tensorflow==0.12.0) (41.0.1)\n",
            "\u001b[31mERROR: tensorflow-metadata 0.14.0 has requirement protobuf<4,>=3.7, but you'll have protobuf 3.1.0 which is incompatible.\u001b[0m\n",
            "\u001b[31mERROR: tfds-nightly 1.0.2.dev201907170105 has requirement protobuf>=3.6.1, but you'll have protobuf 3.1.0 which is incompatible.\u001b[0m\n",
            "\u001b[31mERROR: googleapis-common-protos 1.6.0 has requirement protobuf>=3.6.0, but you'll have protobuf 3.1.0 which is incompatible.\u001b[0m\n",
            "\u001b[31mERROR: fancyimpute 0.4.3 has requirement keras>=2.0.0, but you'll have keras 1.2.1 which is incompatible.\u001b[0m\n",
            "\u001b[31mERROR: google-api-core 1.13.0 has requirement protobuf>=3.4.0, but you'll have protobuf 3.1.0 which is incompatible.\u001b[0m\n",
            "\u001b[31mERROR: tensorboard 1.14.0 has requirement protobuf>=3.6.0, but you'll have protobuf 3.1.0 which is incompatible.\u001b[0m\n",
            "\u001b[31mERROR: tensorflow-hub 0.5.0 has requirement protobuf>=3.4.0, but you'll have protobuf 3.1.0 which is incompatible.\u001b[0m\n",
            "\u001b[31mERROR: magenta 0.3.19 has requirement tensorflow>=1.12.0, but you'll have tensorflow 0.12.0 which is incompatible.\u001b[0m\n",
            "\u001b[31mERROR: google-cloud-bigquery 1.14.0 has requirement protobuf>=3.6.0, but you'll have protobuf 3.1.0 which is incompatible.\u001b[0m\n",
            "Installing collected packages: protobuf, tensorflow\n",
            "  Found existing installation: protobuf 3.7.1\n",
            "    Uninstalling protobuf-3.7.1:\n",
            "      Successfully uninstalled protobuf-3.7.1\n",
            "  Found existing installation: tensorflow 1.14.0\n",
            "    Uninstalling tensorflow-1.14.0:\n",
            "      Successfully uninstalled tensorflow-1.14.0\n",
            "Successfully installed protobuf-3.1.0 tensorflow-0.12.0\n"
          ],
          "name": "stdout"
        },
        {
          "output_type": "display_data",
          "data": {
            "application/vnd.colab-display-data+json": {
              "pip_warning": {
                "packages": [
                  "google",
                  "tensorflow"
                ]
              }
            }
          },
          "metadata": {
            "tags": []
          }
        }
      ]
    },
    {
      "cell_type": "code",
      "metadata": {
        "id": "1KFL5KfYjxGe",
        "colab_type": "code",
        "colab": {}
      },
      "source": [
        "import os\n",
        "os.chdir('./audio-super-res/src')"
      ],
      "execution_count": 0,
      "outputs": []
    },
    {
      "cell_type": "code",
      "metadata": {
        "id": "MeChm86YkEdS",
        "colab_type": "code",
        "colab": {}
      },
      "source": [
        ""
      ],
      "execution_count": 0,
      "outputs": []
    }
  ]
}